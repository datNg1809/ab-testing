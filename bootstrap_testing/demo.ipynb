{
 "cells": [
  {
   "cell_type": "code",
   "execution_count": 1,
   "metadata": {},
   "outputs": [],
   "source": [
    "import bootstrap_testing as bt\n",
    "import numpy as np\n",
    "from scipy import stats\n",
    "import pingouin as pg\n",
    "import os\n",
    "import pandas as pd"
   ]
  },
  {
   "cell_type": "code",
   "execution_count": 2,
   "id": "b5510ae0-6bba-4c29-9e8c-f49b4eb38dd5",
   "metadata": {},
   "outputs": [],
   "source": [
    "# Lets use data from FIN 2335 test: FLAG 269\n",
    "query = '''\n",
    "with precondition as (\n",
    "    SELECT\n",
    "    \tDISTINCT(t.session_id) as session_id\n",
    "    FROM\n",
    "    \tHEYCAR.TRACKING t\n",
    "    JOIN\n",
    "        HEYCAR.SESSION s on t.session_id = s.session_id\n",
    "    WHERE\n",
    "    \tt.event_name = 'pages'\n",
    "        AND t.page_type in ('CLP')\n",
    "        AND t.event_day  >= '2022-09-25'\n",
    "        AND t.platform_id = 0\n",
    "        AND s.device_type in ('mobile')\n",
    "        AND (s.is_bot is null OR s.is_bot = 0)\n",
    "        --AND s.has_tracking_consent = 1\n",
    "        AND s.country_code = 'de'\n",
    "        AND t.country_code = 'de'\n",
    "), sessions as (\n",
    "\tSELECT\n",
    "\t\tt.session_id,\n",
    "\t\ts.session_day,\n",
    "\t\tu.experiment_group_name as test_group\n",
    "    FROM\n",
    "    \tHEYCAR.TRACKING t\n",
    "    JOIN\n",
    "        HEYCAR.SESSION s on t.session_id = s.session_id\n",
    "    JOIN\n",
    "        HEYCAR.USER_EXPERIMENT_SNAPSHOT u on (u.event_day = s.session_day\n",
    "                                            and u.user_id = s.user_id)\n",
    "    WHERE\n",
    "    \tt.event_day  >= '2022-10-06'\n",
    "        AND s.session_day  >= '2022-10-06'\n",
    "        AND u.experiment_id = '269'\n",
    "        AND t.platform_id = 0\n",
    "        AND s.device_type in ('mobile')\n",
    "        AND (s.is_bot is null OR s.is_bot = 0)\n",
    "        --AND s.has_tracking_consent = 1\n",
    "        AND t.country_code = 'de'\n",
    "        AND s.country_code = 'de'\n",
    "        AND t.session_id in (SELECT session_id FROM precondition)\n",
    "    GROUP BY\n",
    "    \t1, 2, 3\n",
    "), leads as (\n",
    "\n",
    "\tSELECT\n",
    "\t\tsl.session_id,\n",
    "\t\tsl.session_day,\n",
    "\t\tcount(distinct l.lead_id) as leads\n",
    "\tFROM\n",
    "\t\tHEYCAR.SESSION_LEAD_LOOKUP sl\n",
    "    JOIN\n",
    "        HEYCAR.LEAD l on sl.lead_id = l.lead_id\n",
    "\tWHERE\n",
    "        sl.session_day >= '2022-10-06'\n",
    "        AND sl.country_code = 'de' \n",
    "        AND l.IS_QUALITY_LEAD = 1\n",
    "    GROUP BY\n",
    "        1, 2\n",
    "\n",
    ")\n",
    "\n",
    "SELECT\n",
    "    s.session_id,\n",
    "\ts.session_day,\n",
    "\ts.test_group,\n",
    "\tl.leads\n",
    "FROM\n",
    "\tsessions s\n",
    "LEFT JOIN\n",
    "\tleads l on s.session_id = l.session_id\n",
    "WHERE\n",
    "    s.session_day <= '2022-10-20'\n",
    "'''"
   ]
  },
  {
   "cell_type": "code",
   "execution_count": 3,
   "metadata": {},
   "outputs": [],
   "source": [
    "#df = bt.get_data(query=query)   #query data from DWH & save to Downloads folder\n",
    "df = bt.load_data(os.path.join(os.environ['HOME'], 'Downloads/bootstrap_demo.csv'))  #load data from Downloads folder"
   ]
  },
  {
   "cell_type": "code",
   "execution_count": 4,
   "metadata": {},
   "outputs": [
    {
     "data": {
      "text/html": [
       "<div>\n",
       "<style scoped>\n",
       "    .dataframe tbody tr th:only-of-type {\n",
       "        vertical-align: middle;\n",
       "    }\n",
       "\n",
       "    .dataframe tbody tr th {\n",
       "        vertical-align: top;\n",
       "    }\n",
       "\n",
       "    .dataframe thead th {\n",
       "        text-align: right;\n",
       "    }\n",
       "</style>\n",
       "<table border=\"1\" class=\"dataframe\">\n",
       "  <thead>\n",
       "    <tr style=\"text-align: right;\">\n",
       "      <th></th>\n",
       "      <th>Unnamed: 0</th>\n",
       "      <th>session_id</th>\n",
       "      <th>session_day</th>\n",
       "      <th>test_group</th>\n",
       "      <th>leads</th>\n",
       "    </tr>\n",
       "  </thead>\n",
       "  <tbody>\n",
       "    <tr>\n",
       "      <th>0</th>\n",
       "      <td>0</td>\n",
       "      <td>ajs-7041aea2b6320e2b62a4daa9d2f22fa1</td>\n",
       "      <td>2022-10-11</td>\n",
       "      <td>show_control</td>\n",
       "      <td>1.0</td>\n",
       "    </tr>\n",
       "    <tr>\n",
       "      <th>1</th>\n",
       "      <td>1</td>\n",
       "      <td>ajs-bf95121730b89deb72ce823d8a791f42</td>\n",
       "      <td>2022-10-20</td>\n",
       "      <td>show_control</td>\n",
       "      <td>3.0</td>\n",
       "    </tr>\n",
       "    <tr>\n",
       "      <th>2</th>\n",
       "      <td>2</td>\n",
       "      <td>ajs-08276465b54d8352a72cacbaa79d8092</td>\n",
       "      <td>2022-10-17</td>\n",
       "      <td>show_control</td>\n",
       "      <td>2.0</td>\n",
       "    </tr>\n",
       "    <tr>\n",
       "      <th>3</th>\n",
       "      <td>3</td>\n",
       "      <td>ajs-ce47d36e0c92e91e2ae44207387b5e05</td>\n",
       "      <td>2022-10-16</td>\n",
       "      <td>show_variant</td>\n",
       "      <td>1.0</td>\n",
       "    </tr>\n",
       "    <tr>\n",
       "      <th>4</th>\n",
       "      <td>4</td>\n",
       "      <td>ajs-62e0108bd1bc478c4539a7b85e77e682</td>\n",
       "      <td>2022-10-19</td>\n",
       "      <td>show_control</td>\n",
       "      <td>2.0</td>\n",
       "    </tr>\n",
       "    <tr>\n",
       "      <th>5</th>\n",
       "      <td>5</td>\n",
       "      <td>ajs-1ff73606f84b2c723a19afe5544c8204</td>\n",
       "      <td>2022-10-12</td>\n",
       "      <td>show_variant</td>\n",
       "      <td>1.0</td>\n",
       "    </tr>\n",
       "    <tr>\n",
       "      <th>6</th>\n",
       "      <td>6</td>\n",
       "      <td>ajs-05e2711b7f440432c7379304ef52fae5</td>\n",
       "      <td>2022-10-10</td>\n",
       "      <td>show_control</td>\n",
       "      <td>1.0</td>\n",
       "    </tr>\n",
       "    <tr>\n",
       "      <th>7</th>\n",
       "      <td>7</td>\n",
       "      <td>ajs-8e273c51bfce6364978cc1bfa95e3c30</td>\n",
       "      <td>2022-10-10</td>\n",
       "      <td>show_control</td>\n",
       "      <td>1.0</td>\n",
       "    </tr>\n",
       "    <tr>\n",
       "      <th>8</th>\n",
       "      <td>8</td>\n",
       "      <td>ajs-2cd7d9c38128e2076ca1e2a9a8dc30fd</td>\n",
       "      <td>2022-10-15</td>\n",
       "      <td>show_variant</td>\n",
       "      <td>1.0</td>\n",
       "    </tr>\n",
       "    <tr>\n",
       "      <th>9</th>\n",
       "      <td>9</td>\n",
       "      <td>ajs-8b06174475f94c5d4e43815bb1ad626d</td>\n",
       "      <td>2022-10-17</td>\n",
       "      <td>show_variant</td>\n",
       "      <td>1.0</td>\n",
       "    </tr>\n",
       "  </tbody>\n",
       "</table>\n",
       "</div>"
      ],
      "text/plain": [
       "   Unnamed: 0                            session_id session_day    test_group  \\\n",
       "0           0  ajs-7041aea2b6320e2b62a4daa9d2f22fa1  2022-10-11  show_control   \n",
       "1           1  ajs-bf95121730b89deb72ce823d8a791f42  2022-10-20  show_control   \n",
       "2           2  ajs-08276465b54d8352a72cacbaa79d8092  2022-10-17  show_control   \n",
       "3           3  ajs-ce47d36e0c92e91e2ae44207387b5e05  2022-10-16  show_variant   \n",
       "4           4  ajs-62e0108bd1bc478c4539a7b85e77e682  2022-10-19  show_control   \n",
       "5           5  ajs-1ff73606f84b2c723a19afe5544c8204  2022-10-12  show_variant   \n",
       "6           6  ajs-05e2711b7f440432c7379304ef52fae5  2022-10-10  show_control   \n",
       "7           7  ajs-8e273c51bfce6364978cc1bfa95e3c30  2022-10-10  show_control   \n",
       "8           8  ajs-2cd7d9c38128e2076ca1e2a9a8dc30fd  2022-10-15  show_variant   \n",
       "9           9  ajs-8b06174475f94c5d4e43815bb1ad626d  2022-10-17  show_variant   \n",
       "\n",
       "   leads  \n",
       "0    1.0  \n",
       "1    3.0  \n",
       "2    2.0  \n",
       "3    1.0  \n",
       "4    2.0  \n",
       "5    1.0  \n",
       "6    1.0  \n",
       "7    1.0  \n",
       "8    1.0  \n",
       "9    1.0  "
      ]
     },
     "execution_count": 4,
     "metadata": {},
     "output_type": "execute_result"
    }
   ],
   "source": [
    "df.head(10)"
   ]
  },
  {
   "cell_type": "code",
   "execution_count": 5,
   "metadata": {},
   "outputs": [
    {
     "name": "stdout",
     "output_type": "stream",
     "text": [
      "(124293, 117275)\n"
     ]
    }
   ],
   "source": [
    "control = df[df.test_group=='show_control']\n",
    "variant = df[df.test_group=='show_variant']\n",
    "print((len(control), len(variant)))"
   ]
  },
  {
   "cell_type": "code",
   "execution_count": 23,
   "metadata": {},
   "outputs": [],
   "source": [
    "control_metric = bt.bootstrap(control, size=min(len(control),len(variant)) , iter=1000)\n",
    "variant_metric = bt.bootstrap(variant, size=min(len(control),len(variant)) , iter=1000)"
   ]
  },
  {
   "cell_type": "code",
   "execution_count": 24,
   "metadata": {},
   "outputs": [
    {
     "name": "stdout",
     "output_type": "stream",
     "text": [
      "control lower, mean, upper bound:  0.005392536707724194 0.005413361756555106 0.005434186805386018\n",
      "variant lower, mean, upper bound:  0.005050131062291471 0.005069827328927734 0.005089523595563997\n"
     ]
    },
    {
     "data": {
      "image/png": "[encoded data removed]",
      "text/plain": [
       "<Figure size 640x480 with 1 Axes>"
      ]
     },
     "metadata": {},
     "output_type": "display_data"
    }
   ],
   "source": [
    "bt.plot_histogram(control=control_metric,\n",
    "                  variant=variant_metric,\n",
    "                  bins=25\n",
    "                )"
   ]
  },
  {
   "cell_type": "code",
   "execution_count": 21,
   "metadata": {},
   "outputs": [],
   "source": [
    "#pd.DataFrame(control_metric).boxplot()"
   ]
  },
  {
   "cell_type": "code",
   "execution_count": 9,
   "metadata": {},
   "outputs": [
    {
     "data": {
      "text/plain": [
       "(0.0053700466611733624, 0.005471553338826637)"
      ]
     },
     "execution_count": 9,
     "metadata": {},
     "output_type": "execute_result"
    }
   ],
   "source": [
    "stats.norm.interval(alpha=0.95,\n",
    "                    loc=np.mean(control_metric),\n",
    "                    scale=stats.sem(control_metric)\n",
    "                    )"
   ]
  },
  {
   "cell_type": "code",
   "execution_count": 22,
   "metadata": {},
   "outputs": [
    {
     "data": {
      "text/plain": [
       "(10.933937353121824, 4.5605615145701854e-27, True)"
      ]
     },
     "execution_count": 22,
     "metadata": {},
     "output_type": "execute_result"
    }
   ],
   "source": [
    "# T-Test from scipy\n",
    "t_score, pvalue = stats.ttest_ind(control_metric, variant_metric)\n",
    "t_score, pvalue, pvalue<0.05"
   ]
  },
  {
   "cell_type": "code",
   "execution_count": 20,
   "metadata": {},
   "outputs": [
    {
     "data": {
      "text/html": [
       "<div>\n",
       "<style scoped>\n",
       "    .dataframe tbody tr th:only-of-type {\n",
       "        vertical-align: middle;\n",
       "    }\n",
       "\n",
       "    .dataframe tbody tr th {\n",
       "        vertical-align: top;\n",
       "    }\n",
       "\n",
       "    .dataframe thead th {\n",
       "        text-align: right;\n",
       "    }\n",
       "</style>\n",
       "<table border=\"1\" class=\"dataframe\">\n",
       "  <thead>\n",
       "    <tr style=\"text-align: right;\">\n",
       "      <th></th>\n",
       "      <th>T</th>\n",
       "      <th>dof</th>\n",
       "      <th>alternative</th>\n",
       "      <th>p-val</th>\n",
       "      <th>CI94%</th>\n",
       "      <th>cohen-d</th>\n",
       "      <th>BF10</th>\n",
       "      <th>power</th>\n",
       "    </tr>\n",
       "  </thead>\n",
       "  <tbody>\n",
       "    <tr>\n",
       "      <th>T-test</th>\n",
       "      <td>10.933937</td>\n",
       "      <td>1998</td>\n",
       "      <td>two-sided</td>\n",
       "      <td>4.560562e-27</td>\n",
       "      <td>[0.0003269329644993633, 0.0004628670355006369]</td>\n",
       "      <td>0.488981</td>\n",
       "      <td>5.746e+23</td>\n",
       "      <td>1.0</td>\n",
       "    </tr>\n",
       "  </tbody>\n",
       "</table>\n",
       "</div>"
      ],
      "text/plain": [
       "                T   dof alternative         p-val  \\\n",
       "T-test  10.933937  1998   two-sided  4.560562e-27   \n",
       "\n",
       "                                                 CI94%   cohen-d       BF10  \\\n",
       "T-test  [0.0003269329644993633, 0.0004628670355006369]  0.488981  5.746e+23   \n",
       "\n",
       "        power  \n",
       "T-test    1.0  "
      ]
     },
     "execution_count": 20,
     "metadata": {},
     "output_type": "execute_result"
    }
   ],
   "source": [
    "# T-test from pingouin\n",
    "pgtt = pg.ttest(control_metric, variant_metric, alternative='two-sided', confidence=0.94)\n",
    "pgtt"
   ]
  },
  {
   "cell_type": "code",
   "execution_count": null,
   "metadata": {},
   "outputs": [],
   "source": []
  },
  {
   "cell_type": "code",
   "execution_count": null,
   "metadata": {},
   "outputs": [],
   "source": []
  },
  {
   "cell_type": "markdown",
   "metadata": {},
   "source": [
    "# IF USING T-TEST ON (LEADS/SESSIONS) "
   ]
  },
  {
   "cell_type": "code",
   "execution_count": 14,
   "metadata": {},
   "outputs": [],
   "source": [
    "from itertools import count\n",
    "import matplotlib.pyplot as plt\n",
    "\n",
    "\n",
    "daily_c = control.groupby(['session_day']).agg({'leads': 'sum',\n",
    "                                                'session_id': 'count'}).reset_index()\n",
    "daily_v = variant.groupby(['session_day']).agg({'leads': 'sum',\n",
    "                                                'session_id': 'count'}).reset_index()"
   ]
  },
  {
   "cell_type": "code",
   "execution_count": 34,
   "metadata": {},
   "outputs": [
    {
     "data": {
      "text/html": [
       "<div>\n",
       "<style scoped>\n",
       "    .dataframe tbody tr th:only-of-type {\n",
       "        vertical-align: middle;\n",
       "    }\n",
       "\n",
       "    .dataframe tbody tr th {\n",
       "        vertical-align: top;\n",
       "    }\n",
       "\n",
       "    .dataframe thead th {\n",
       "        text-align: right;\n",
       "    }\n",
       "</style>\n",
       "<table border=\"1\" class=\"dataframe\">\n",
       "  <thead>\n",
       "    <tr style=\"text-align: right;\">\n",
       "      <th></th>\n",
       "      <th>session_day</th>\n",
       "      <th>leads</th>\n",
       "      <th>session_id</th>\n",
       "    </tr>\n",
       "  </thead>\n",
       "  <tbody>\n",
       "    <tr>\n",
       "      <th>0</th>\n",
       "      <td>2022-10-06</td>\n",
       "      <td>44.0</td>\n",
       "      <td>7176</td>\n",
       "    </tr>\n",
       "    <tr>\n",
       "      <th>1</th>\n",
       "      <td>2022-10-07</td>\n",
       "      <td>52.0</td>\n",
       "      <td>7273</td>\n",
       "    </tr>\n",
       "    <tr>\n",
       "      <th>2</th>\n",
       "      <td>2022-10-08</td>\n",
       "      <td>50.0</td>\n",
       "      <td>8176</td>\n",
       "    </tr>\n",
       "    <tr>\n",
       "      <th>3</th>\n",
       "      <td>2022-10-09</td>\n",
       "      <td>47.0</td>\n",
       "      <td>9768</td>\n",
       "    </tr>\n",
       "    <tr>\n",
       "      <th>4</th>\n",
       "      <td>2022-10-10</td>\n",
       "      <td>34.0</td>\n",
       "      <td>8205</td>\n",
       "    </tr>\n",
       "    <tr>\n",
       "      <th>5</th>\n",
       "      <td>2022-10-11</td>\n",
       "      <td>34.0</td>\n",
       "      <td>7577</td>\n",
       "    </tr>\n",
       "    <tr>\n",
       "      <th>6</th>\n",
       "      <td>2022-10-12</td>\n",
       "      <td>45.0</td>\n",
       "      <td>7809</td>\n",
       "    </tr>\n",
       "    <tr>\n",
       "      <th>7</th>\n",
       "      <td>2022-10-13</td>\n",
       "      <td>38.0</td>\n",
       "      <td>7871</td>\n",
       "    </tr>\n",
       "    <tr>\n",
       "      <th>8</th>\n",
       "      <td>2022-10-14</td>\n",
       "      <td>34.0</td>\n",
       "      <td>7895</td>\n",
       "    </tr>\n",
       "    <tr>\n",
       "      <th>9</th>\n",
       "      <td>2022-10-15</td>\n",
       "      <td>42.0</td>\n",
       "      <td>8632</td>\n",
       "    </tr>\n",
       "    <tr>\n",
       "      <th>10</th>\n",
       "      <td>2022-10-16</td>\n",
       "      <td>39.0</td>\n",
       "      <td>8716</td>\n",
       "    </tr>\n",
       "    <tr>\n",
       "      <th>11</th>\n",
       "      <td>2022-10-17</td>\n",
       "      <td>54.0</td>\n",
       "      <td>7591</td>\n",
       "    </tr>\n",
       "    <tr>\n",
       "      <th>12</th>\n",
       "      <td>2022-10-18</td>\n",
       "      <td>40.0</td>\n",
       "      <td>7847</td>\n",
       "    </tr>\n",
       "    <tr>\n",
       "      <th>13</th>\n",
       "      <td>2022-10-19</td>\n",
       "      <td>52.0</td>\n",
       "      <td>7911</td>\n",
       "    </tr>\n",
       "    <tr>\n",
       "      <th>14</th>\n",
       "      <td>2022-10-20</td>\n",
       "      <td>70.0</td>\n",
       "      <td>11846</td>\n",
       "    </tr>\n",
       "  </tbody>\n",
       "</table>\n",
       "</div>"
      ],
      "text/plain": [
       "   session_day  leads  session_id\n",
       "0   2022-10-06   44.0        7176\n",
       "1   2022-10-07   52.0        7273\n",
       "2   2022-10-08   50.0        8176\n",
       "3   2022-10-09   47.0        9768\n",
       "4   2022-10-10   34.0        8205\n",
       "5   2022-10-11   34.0        7577\n",
       "6   2022-10-12   45.0        7809\n",
       "7   2022-10-13   38.0        7871\n",
       "8   2022-10-14   34.0        7895\n",
       "9   2022-10-15   42.0        8632\n",
       "10  2022-10-16   39.0        8716\n",
       "11  2022-10-17   54.0        7591\n",
       "12  2022-10-18   40.0        7847\n",
       "13  2022-10-19   52.0        7911\n",
       "14  2022-10-20   70.0       11846"
      ]
     },
     "execution_count": 34,
     "metadata": {},
     "output_type": "execute_result"
    }
   ],
   "source": [
    "daily_c"
   ]
  },
  {
   "cell_type": "code",
   "execution_count": 15,
   "metadata": {},
   "outputs": [
    {
     "data": {
      "text/html": [
       "<div>\n",
       "<style scoped>\n",
       "    .dataframe tbody tr th:only-of-type {\n",
       "        vertical-align: middle;\n",
       "    }\n",
       "\n",
       "    .dataframe tbody tr th {\n",
       "        vertical-align: top;\n",
       "    }\n",
       "\n",
       "    .dataframe thead th {\n",
       "        text-align: right;\n",
       "    }\n",
       "</style>\n",
       "<table border=\"1\" class=\"dataframe\">\n",
       "  <thead>\n",
       "    <tr style=\"text-align: right;\">\n",
       "      <th></th>\n",
       "      <th>T</th>\n",
       "      <th>dof</th>\n",
       "      <th>alternative</th>\n",
       "      <th>p-val</th>\n",
       "      <th>CI95%</th>\n",
       "      <th>cohen-d</th>\n",
       "      <th>BF10</th>\n",
       "      <th>power</th>\n",
       "    </tr>\n",
       "  </thead>\n",
       "  <tbody>\n",
       "    <tr>\n",
       "      <th>T-test</th>\n",
       "      <td>1.021058</td>\n",
       "      <td>28</td>\n",
       "      <td>two-sided</td>\n",
       "      <td>0.315968</td>\n",
       "      <td>[-0.0, 0.0]</td>\n",
       "      <td>0.372838</td>\n",
       "      <td>0.51</td>\n",
       "      <td>0.166725</td>\n",
       "    </tr>\n",
       "  </tbody>\n",
       "</table>\n",
       "</div>"
      ],
      "text/plain": [
       "               T  dof alternative     p-val        CI95%   cohen-d  BF10  \\\n",
       "T-test  1.021058   28   two-sided  0.315968  [-0.0, 0.0]  0.372838  0.51   \n",
       "\n",
       "           power  \n",
       "T-test  0.166725  "
      ]
     },
     "execution_count": 15,
     "metadata": {},
     "output_type": "execute_result"
    }
   ],
   "source": [
    "pg.ttest(daily_c.leads/daily_c.session_id, daily_v.leads/daily_v.session_id)"
   ]
  },
  {
   "cell_type": "code",
   "execution_count": 16,
   "metadata": {},
   "outputs": [
    {
     "data": {
      "text/plain": [
       "(array([2., 2., 3., 1., 0., 2., 2., 0., 1., 2.]),\n",
       " array([0.00414381, 0.00444441, 0.004745  , 0.00504559, 0.00534618,\n",
       "        0.00564677, 0.00594737, 0.00624796, 0.00654855, 0.00684914,\n",
       "        0.00714973]),\n",
       " <BarContainer object of 10 artists>)"
      ]
     },
     "execution_count": 16,
     "metadata": {},
     "output_type": "execute_result"
    },
    {
     "data": {
      "image/png": "[encoded data removed]",
      "text/plain": [
       "<Figure size 640x480 with 1 Axes>"
      ]
     },
     "metadata": {},
     "output_type": "display_data"
    }
   ],
   "source": [
    "plt.hist(daily_c.leads/daily_c.session_id)\n",
    "# failed - not normally distributed"
   ]
  },
  {
   "cell_type": "code",
   "execution_count": 17,
   "metadata": {},
   "outputs": [
    {
     "name": "stdout",
     "output_type": "stream",
     "text": [
      "-0.07047909235178484\n"
     ]
    }
   ],
   "source": [
    "cvr_c = control.leads.sum()/control.session_id.count()\n",
    "cvr_v = variant.leads.sum()/variant.session_id.count()\n",
    "uplift_ = (cvr_v-cvr_c)/cvr_c\n",
    "print(uplift_)\n"
   ]
  },
  {
   "cell_type": "markdown",
   "metadata": {},
   "source": [
    "# IF USING MAN-WHITNEY U TEST"
   ]
  },
  {
   "cell_type": "code",
   "execution_count": 30,
   "metadata": {},
   "outputs": [
    {
     "data": {
      "text/plain": [
       "((array([274.,  63.,  70.,   3.,   1.,   4.,   0.,   1.,   0.,   0.,   0.,\n",
       "           0.,   0.,   0.,   1.]),\n",
       "  array([ 1.,  2.,  3.,  4.,  5.,  6.,  7.,  8.,  9., 10., 11., 12., 13.,\n",
       "         14., 15., 16.]),\n",
       "  <BarContainer object of 15 artists>),\n",
       " (array([239.,  55.,  45.,  10.,   5.,   3.,   2.,   0.,   0.,   0.,   1.]),\n",
       "  array([ 1.        ,  1.90909091,  2.81818182,  3.72727273,  4.63636364,\n",
       "          5.54545455,  6.45454545,  7.36363636,  8.27272727,  9.18181818,\n",
       "         10.09090909, 11.        ]),\n",
       "  <BarContainer object of 11 artists>))"
      ]
     },
     "execution_count": 30,
     "metadata": {},
     "output_type": "execute_result"
    },
    {
     "data": {
      "image/png": "[encoded data removed]",
      "text/plain": [
       "<Figure size 640x480 with 1 Axes>"
      ]
     },
     "metadata": {},
     "output_type": "display_data"
    }
   ],
   "source": [
    "plt.hist(control.leads,bins=15), plt.hist(variant.leads.dropna(),bins=11)"
   ]
  },
  {
   "cell_type": "code",
   "execution_count": 35,
   "metadata": {},
   "outputs": [
    {
     "data": {
      "text/plain": [
       "MannwhitneyuResult(statistic=7290310037.0, pvalue=0.2158456198130847)"
      ]
     },
     "execution_count": 35,
     "metadata": {},
     "output_type": "execute_result"
    }
   ],
   "source": [
    "stats.mannwhitneyu(control.leads.fillna(0),\n",
    "                   variant.leads.fillna(0),\n",
    "                   alternative='two-sided')\n"
   ]
  },
  {
   "cell_type": "code",
   "execution_count": 33,
   "metadata": {},
   "outputs": [
    {
     "data": {
      "text/plain": [
       "'/Users/datnguyen'"
      ]
     },
     "execution_count": 33,
     "metadata": {},
     "output_type": "execute_result"
    }
   ],
   "source": [
    "import os \n",
    "\n",
    "os.environ['HOME']"
   ]
  },
  {
   "cell_type": "code",
   "execution_count": 4,
   "metadata": {},
   "outputs": [
    {
     "data": {
      "text/plain": [
       "'/Users/datnguyen'"
      ]
     },
     "execution_count": 4,
     "metadata": {},
     "output_type": "execute_result"
    }
   ],
   "source": [
    "os.environ['HOME']"
   ]
  }
 ],
 "metadata": {
  "kernelspec": {
   "display_name": "Python 3.8.5 ('base')",
   "language": "python",
   "name": "python3"
  },
  "language_info": {
   "codemirror_mode": {
    "name": "ipython",
    "version": 3
   },
   "file_extension": ".py",
   "mimetype": "text/x-python",
   "name": "python",
   "nbconvert_exporter": "python",
   "pygments_lexer": "ipython3",
   "version": "3.8.13"
  },
  "orig_nbformat": 4,
  "vscode": {
   "interpreter": {
    "hash": "74a5df930dd984d4685682637634822e7ca157cd42bfd51835e1f13a0d14fa08"
   }
  }
 },
 "nbformat": 4,
 "nbformat_minor": 2
}
